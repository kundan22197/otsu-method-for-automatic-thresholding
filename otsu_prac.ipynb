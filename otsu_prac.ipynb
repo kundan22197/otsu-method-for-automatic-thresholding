{
 "cells": [
  {
   "cell_type": "code",
   "execution_count": 2,
   "metadata": {},
   "outputs": [],
   "source": [
    "import math\n",
    "import numpy as np\n",
    "from matplotlib import pyplot as plt\n",
    "from matplotlib import image as mpimg\n",
    "# import matplotlib.image as mpimg\n",
    "from PIL import Image"
   ]
  },
  {
   "cell_type": "code",
   "execution_count": 3,
   "metadata": {},
   "outputs": [],
   "source": [
    "threshold_values = {}\n",
    "h = [1]"
   ]
  },
  {
   "cell_type": "code",
   "execution_count": 4,
   "metadata": {},
   "outputs": [],
   "source": [
    "def Hist(img):\n",
    "    row, col = img.shape \n",
    "    y = np.zeros(256)\n",
    "    for i in range(0,row):\n",
    "        for j in range(0,col):\n",
    "            y[int(round(img[i,j]))] += 1\n",
    "    x = np.arange(0,256)\n",
    "    plt.bar(x, y, color='b', width=5, align='center', alpha=0.25)\n",
    "    plt.show()\n",
    "    return y"
   ]
  },
  {
   "cell_type": "code",
   "execution_count": 24,
   "metadata": {},
   "outputs": [],
   "source": [
    "def regenerate_img(img, thresholds):\n",
    "    row, col = img.shape \n",
    "    y = np.zeros((row, col))\n",
    "    for i in range(0,row):\n",
    "        for j in range(0,col):\n",
    "            if img[i,j] >= thresholds[2]:\n",
    "                y[i,j] = 200\n",
    "            elif img[i,j] >= thresholds[1]:\n",
    "                y[i,j] = 150\n",
    "            elif img[i,j] >= thresholds[0]:\n",
    "                y[i,j] = 100\n",
    "            else:\n",
    "                y[i,j] = 0\n",
    "    return y"
   ]
  },
  {
   "cell_type": "code",
   "execution_count": 6,
   "metadata": {},
   "outputs": [],
   "source": [
    "def countPixel(h):\n",
    "    cnt = 0\n",
    "    for i in range(0, len(h)):\n",
    "        if h[i]>0:\n",
    "           cnt += h[i]\n",
    "    return cnt\n",
    "\n",
    "\n",
    "def wieght(s, e):\n",
    "    w = 0\n",
    "    for i in range(s, e):\n",
    "        w += h[i]\n",
    "    return w\n",
    "\n",
    "\n",
    "def mean(s, e):\n",
    "    m = 0\n",
    "    w = wieght(s, e)\n",
    "    for i in range(s, e):\n",
    "        m += h[i] * i\n",
    "    \n",
    "    return m/float(w)"
   ]
  },
  {
   "cell_type": "code",
   "execution_count": 7,
   "metadata": {},
   "outputs": [],
   "source": [
    "def variance(s, e):\n",
    "    v = 0\n",
    "    m = mean(s, e)\n",
    "    w = wieght(s, e)\n",
    "    for i in range(s, e):\n",
    "        v += ((i - m) **2) * h[i]\n",
    "    v /= w\n",
    "    return v"
   ]
  },
  {
   "cell_type": "code",
   "execution_count": 8,
   "metadata": {},
   "outputs": [],
   "source": [
    "def threshold(h):\n",
    "    cnt = countPixel(h)\n",
    "    print(cnt)\n",
    "    for i in range(1, len(h)):\n",
    "        vb = variance(0, i)\n",
    "        wb = wieght(0, i) / float(cnt)\n",
    "        mb = mean(0, i)\n",
    "        \n",
    "        vf = variance(i, len(h))\n",
    "        wf = wieght(i, len(h)) / float(cnt)\n",
    "        mf = mean(i, len(h))\n",
    "        \n",
    "        V2w = wb * (vb) + wf * (vf)\n",
    "        V2b = wb * wf * (mb - mf)**2\n",
    "        \n",
    "        fw = open(\"trace.txt\", \"a\")\n",
    "        fw.write('T='+ str(i) + \"\\n\")\n",
    "\n",
    "        fw.write('Wb='+ str(wb) + \"\\n\")\n",
    "        fw.write('Mb='+ str(mb) + \"\\n\")\n",
    "        fw.write('Vb='+ str(vb) + \"\\n\")\n",
    "        \n",
    "        fw.write('Wf='+ str(wf) + \"\\n\")\n",
    "        fw.write('Mf='+ str(mf) + \"\\n\")\n",
    "        fw.write('Vf='+ str(vf) + \"\\n\")\n",
    "\n",
    "        fw.write('within class variance='+ str(V2w) + \"\\n\")\n",
    "        fw.write('between class variance=' + str(V2b) + \"\\n\")\n",
    "        fw.write(\"\\n\")\n",
    "        \n",
    "        if not math.isnan(V2w):\n",
    "            threshold_values[i] = V2w"
   ]
  },
  {
   "cell_type": "code",
   "execution_count": 9,
   "metadata": {},
   "outputs": [],
   "source": [
    "def threshold_new(h):\n",
    "    cnt = countPixel(h)\n",
    "    for i in range(1, len(h)):\n",
    "        for j in range(i+1, len(h)):\n",
    "            for k in range(j+1, len(h)):\n",
    "                \n",
    "                v1 = variance(0, i)\n",
    "                w1 = wieght(0, i) / float(cnt)\n",
    "#                 m1 = mean(0, i)\n",
    "                \n",
    "                v2 = variance(i, j)\n",
    "                w2 = wieght(i, j) / float(cnt)\n",
    "#                 m2 = mean(i, j)\n",
    "                \n",
    "                v3 = variance(j, k)\n",
    "                w3 = wieght(j, k) / float(cnt)\n",
    "#                 m3 = mean(j, k)\n",
    "                \n",
    "                v4 = variance(k, len(h))\n",
    "                w4 = wieght(k, len(h)) / float(cnt)\n",
    "#                 m4 = mean(k, len(h))\n",
    "                \n",
    "                V2w = w1 * (v1) + w2 * (v2) + w3 * (v3) + w4 * (v4)\n",
    "#                 V2b = w1 * w2 * w3 * w4 * (m4 - m1)**2\n",
    "\n",
    "\n",
    "                fw = open(\"trace.txt\", \"a\")\n",
    "                fw.write('T1='+ str(i) + \"\\n\")\n",
    "                fw.write('T2='+ str(j) + \"\\n\")\n",
    "                fw.write('T3='+ str(k) + \"\\n\")\n",
    "                \n",
    "                \n",
    "\n",
    "                \n",
    "#                 fw.write('W1='+ str(w1) + \"\\n\")\n",
    "#                 fw.write('M1='+ str(m1) + \"\\n\")\n",
    "#                 fw.write('V1='+ str(v1) + \"\\n\")\n",
    "                \n",
    "#                 fw.write('W2='+ str(w2) + \"\\n\")\n",
    "#                 fw.write('M2='+ str(m2) + \"\\n\")\n",
    "#                 fw.write('V2='+ str(v2) + \"\\n\")\n",
    "                \n",
    "#                 fw.write('W3='+ str(w3) + \"\\n\")\n",
    "#                 fw.write('M3='+ str(m3) + \"\\n\")\n",
    "#                 fw.write('V3='+ str(v3) + \"\\n\")\n",
    "\n",
    "#                 fw.write('W4='+ str(w4) + \"\\n\")\n",
    "#                 fw.write('M4='+ str(m4) + \"\\n\")\n",
    "#                 fw.write('V4='+ str(v4) + \"\\n\")\n",
    "                \n",
    "\n",
    "                fw.write('within class variance='+ str(V2w) + \"\\n\")\n",
    "#                 fw.write(\"\\n\")\n",
    "                \n",
    "                if not math.isnan(V2w):\n",
    "                    threshold_values[(i,j,k)] = V2w\n",
    "                \n",
    "                \n",
    "                \n",
    "#         vb = variance(0, i)\n",
    "#         wb = wieght(0, i) / float(cnt)\n",
    "#         mb = mean(0, i)\n",
    "        \n",
    "#         vf = variance(i, len(h))\n",
    "#         wf = wieght(i, len(h)) / float(cnt)\n",
    "#         mf = mean(i, len(h))\n",
    "        \n",
    "#         V2w = wb * (vb) + wf * (vf)\n",
    "#         V2b = wb * wf * (mb - mf)**2\n",
    "        \n",
    "#         fw = open(\"trace.txt\", \"a\")\n",
    "#         fw.write('T='+ str(i) + \"\\n\")\n",
    "\n",
    "#         fw.write('Wb='+ str(wb) + \"\\n\")\n",
    "#         fw.write('Mb='+ str(mb) + \"\\n\")\n",
    "#         fw.write('Vb='+ str(vb) + \"\\n\")\n",
    "        \n",
    "#         fw.write('Wf='+ str(wf) + \"\\n\")\n",
    "#         fw.write('Mf='+ str(mf) + \"\\n\")\n",
    "#         fw.write('Vf='+ str(vf) + \"\\n\")\n",
    "\n",
    "#         fw.write('within class variance='+ str(V2w) + \"\\n\")\n",
    "#         fw.write('between class variance=' + str(V2b) + \"\\n\")\n",
    "#         fw.write(\"\\n\")\n",
    "        \n",
    "#         if not math.isnan(V2w):\n",
    "#             threshold_values[i] = V2w"
   ]
  },
  {
   "cell_type": "code",
   "execution_count": 10,
   "metadata": {},
   "outputs": [],
   "source": [
    "def get_optimal_threshold():\n",
    "    min_V2w = min(threshold_values.values())\n",
    "    optimal_threshold = [k for k, v in threshold_values.items() if v == min_V2w]\n",
    "    print('optimal threshold', optimal_threshold[0])\n",
    "    return list(optimal_threshold[0])"
   ]
  },
  {
   "cell_type": "code",
   "execution_count": 11,
   "metadata": {},
   "outputs": [],
   "source": [
    "def rgb2gray(rgb):\n",
    "#     print(rgb)\n",
    "    return np.dot(rgb[...,:3], [0.2989, 0.5870, 0.1140])"
   ]
  },
  {
   "cell_type": "code",
   "execution_count": 33,
   "metadata": {},
   "outputs": [
    {
     "name": "stdout",
     "output_type": "stream",
     "text": [
      "(461, 690, 4)\n"
     ]
    },
    {
     "data": {
      "image/png": "[encoded data removed]",
      "text/plain": [
       "<Figure size 432x288 with 1 Axes>"
      ]
     },
     "metadata": {
      "needs_background": "light"
     },
     "output_type": "display_data"
    },
    {
     "data": {
      "text/plain": [
       "<matplotlib.image.AxesImage at 0x7fabb8787700>"
      ]
     },
     "execution_count": 33,
     "metadata": {},
     "output_type": "execute_result"
    },
    {
     "data": {
      "image/png": "[encoded data removed]",
      "text/plain": [
       "<Figure size 432x288 with 1 Axes>"
      ]
     },
     "metadata": {
      "needs_background": "light"
     },
     "output_type": "display_data"
    }
   ],
   "source": [
    "\n",
    "image1 = mpimg.imread('img/tiger1.bmp')\n",
    "# plt.imshow(image1)\n",
    "print(image1.shape)\n",
    "gray = rgb2gray(image1)\n",
    "# print(gray)\n",
    "img = np.asarray(gray)\n",
    "\n",
    "# print(img)\n",
    "h = Hist(img)\n",
    "plt.imshow(gray)\n",
    "# threshold_new(h)\n",
    "# op_thres = get_optimal_threshold()\n",
    "\n",
    "res = regenerate_img(img, [45,105,175])\n",
    "plt.imshow(res)\n",
    "# plt.savefig(\"img/otsu.bmp\")\n",
    "\n",
    "\n",
    "\n",
    "\n",
    "# image = Image.open('img/data13.bmp').convert(\"L\")\n",
    "# img = np.asarray(image)\n",
    "\n",
    "\n"
   ]
  },
  {
   "cell_type": "code",
   "execution_count": null,
   "metadata": {},
   "outputs": [],
   "source": []
  },
  {
   "cell_type": "code",
   "execution_count": null,
   "metadata": {},
   "outputs": [],
   "source": []
  }
 ],
 "metadata": {
  "kernelspec": {
   "display_name": "Python 3",
   "language": "python",
   "name": "python3"
  },
  "language_info": {
   "codemirror_mode": {
    "name": "ipython",
    "version": 3
   },
   "file_extension": ".py",
   "mimetype": "text/x-python",
   "name": "python",
   "nbconvert_exporter": "python",
   "pygments_lexer": "ipython3",
   "version": "3.8.1"
  }
 },
 "nbformat": 4,
 "nbformat_minor": 4
}
